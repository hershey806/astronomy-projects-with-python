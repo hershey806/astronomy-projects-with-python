{
 "cells": [
  {
   "cell_type": "markdown",
   "metadata": {},
   "source": [
    "\n",
    "# Exploring the Theory Behind Sunspots: Part 1\n",
    "\n",
    "This notebook will look at a theoretical sunspot traveling across the face of the Sun and explore why a third degree polyfit is used in ```sunspotsAuto.ipynb``` to test whether we found a good sunspot track. \n",
    "\n",
    "Sunspots move across the face of the Sun parallel to the equator. They also move in circles when looked at from the top. A circle can be related to the trig functions sine and cosine, as shown below. "
   ]
  },
  {
   "cell_type": "code",
   "execution_count": 1,
   "metadata": {},
   "outputs": [],
   "source": [
    "# Importing the required libraries/modules\n",
    "\n",
    "import matplotlib.pyplot as plt\n",
    "import numpy as np\n",
    "from IPython.display import Image"
   ]
  },
  {
   "cell_type": "code",
   "execution_count": 2,
   "metadata": {},
   "outputs": [
    {
     "data": {
      "image/png": "[encoded data removed]",
      "text/plain": [
       "<Figure size 432x288 with 1 Axes>"
      ]
     },
     "metadata": {
      "needs_background": "light"
     },
     "output_type": "display_data"
    }
   ],
   "source": [
    "# Creating sample values for time\n",
    "\n",
    "t = np.linspace(0, 2*np.pi, 18)\n",
    "\n",
    "# Setting x equal to the cos(t) and y equal to sin(t)\n",
    "\n",
    "x = np.cos(t)\n",
    "y = np.sin(t)\n",
    "\n",
    "fig = plt.figure(1)\n",
    "plt.scatter(y, x),plt.axis('equal')\n",
    "plt.plot(y, x)\n",
    "\n",
    "plt.show()"
   ]
  },
  {
   "cell_type": "markdown",
   "metadata": {},
   "source": [
    "We have a circle! This circle isn't smooth because we only used 18 points for our plot. This is the top-down view of the Sun showing a hypothetical sunspot moving with one full rotation of the Sun.\n",
    "\n",
    "The code below plots the side view."
   ]
  },
  {
   "cell_type": "code",
   "execution_count": 4,
   "metadata": {},
   "outputs": [
    {
     "data": {
      "image/png": "[encoded data removed]",
      "text/plain": [
       "<Figure size 432x288 with 1 Axes>"
      ]
     },
     "metadata": {
      "needs_background": "light"
     },
     "output_type": "display_data"
    }
   ],
   "source": [
    "# Creates the side view\n",
    "\n",
    "fig = plt.figure(2)\n",
    "plt.scatter(x, np.ones(len(x)))\n",
    "\n",
    "plt.show()"
   ]
  },
  {
   "cell_type": "markdown",
   "metadata": {},
   "source": [
    "Here we see the path of the sunspot that you'd see on Earth. Towards the sides, the points seem to bunch up. The sunspot is still rotating on the Sun's surface the same amount but because of our perspective it looks like it hasn't moved much in the x direction.\n",
    "\n",
    "In the imges in ***sunspots.ipynb*** and ***sunspotsAuto.ipynb***, the origin is not the center of the image but is rather the lower left corner. Let's shift our data to match this:"
   ]
  },
  {
   "cell_type": "code",
   "execution_count": 5,
   "metadata": {},
   "outputs": [
    {
     "data": {
      "text/plain": [
       "[0.0,\n",
       " 0.06752777059564419,\n",
       " 0.2609910827793409,\n",
       " 0.5542616442234617,\n",
       " 0.907731640536698,\n",
       " 1.2736629900720828,\n",
       " 1.6026346363792563,\n",
       " 1.8502171357296142,\n",
       " 1.982973099683902,\n",
       " 1.982973099683902,\n",
       " 1.850217135729614,\n",
       " 1.6026346363792565,\n",
       " 1.273662990072083,\n",
       " 0.9077316405366984,\n",
       " 0.5542616442234615,\n",
       " 0.2609910827793409,\n",
       " 0.06752777059564419,\n",
       " 0.0]"
      ]
     },
     "execution_count": 5,
     "metadata": {},
     "output_type": "execute_result"
    }
   ],
   "source": [
    "shiftx = []\n",
    "\n",
    "# x starts at 1 and goes to -1, shiftx to start at 0 and go to 2\n",
    "\n",
    "for i in x:\n",
    "    if i < 0:\n",
    "        shiftx.append(1+abs(i))\n",
    "    else:\n",
    "        shiftx.append(1-abs(i))\n",
    "\n",
    "shiftx"
   ]
  },
  {
   "cell_type": "code",
   "execution_count": 6,
   "metadata": {},
   "outputs": [
    {
     "data": {
      "image/png": "[encoded data removed]",
      "text/plain": [
       "<Figure size 432x288 with 2 Axes>"
      ]
     },
     "metadata": {
      "needs_background": "light"
     },
     "output_type": "display_data"
    }
   ],
   "source": [
    "# Creates scatter plots of the x positions versus time and the shifted x positions versus time\n",
    "\n",
    "fig, (ax1, ax2) = plt.subplots(1, 2, sharey=True)\n",
    "half = int(np.floor(len(t)/2))\n",
    "ax1.scatter(t[:half], x[:half])\n",
    "ax2.scatter(t[:half], shiftx[:half])\n",
    "\n",
    "plt.show()"
   ]
  },
  {
   "cell_type": "markdown",
   "metadata": {},
   "source": [
    "On the left is before shifting the x values and the right is after shifting the x values to be positive and increasing like in our images. The time was cut in half so we don't see what happens on the side of the Sun facing away from us.\n",
    "\n",
    "This fake sunspot's path looks a bit like an s shape. We can try fitting a curve to it using ```np.polyfit()```:"
   ]
  },
  {
   "cell_type": "code",
   "execution_count": 7,
   "metadata": {},
   "outputs": [
    {
     "data": {
      "text/plain": [
       "array([ 0.75228571, -0.16773215])"
      ]
     },
     "execution_count": 7,
     "metadata": {},
     "output_type": "execute_result"
    }
   ],
   "source": [
    "# Creates a linear fit for the sunspot's x position versus time\n",
    "\n",
    "fit1 = np.polyfit(t[:half], shiftx[:half], 1)\n",
    "fit1"
   ]
  },
  {
   "cell_type": "markdown",
   "metadata": {},
   "source": [
    "The array gives us the slope and the intercept of the fit. If we include ```full=True``` it will also give us some information about the goodness of the fit:"
   ]
  },
  {
   "cell_type": "code",
   "execution_count": 8,
   "metadata": {},
   "outputs": [
    {
     "data": {
      "text/plain": [
       "(array([ 0.75228571, -0.16773215]),\n",
       " array([0.08370929]),\n",
       " 2,\n",
       " array([1.35652794, 0.39978988]),\n",
       " 1.9984014443252818e-15)"
      ]
     },
     "execution_count": 8,
     "metadata": {},
     "output_type": "execute_result"
    }
   ],
   "source": [
    "# Linear fit with full equal to True\n",
    "\n",
    "np.polyfit(t[:half],shiftx[:half], 1, full=True)"
   ]
  },
  {
   "cell_type": "markdown",
   "metadata": {},
   "source": [
    "The second array gives the residual from fitting a straight line. We can add this fit to our graph:"
   ]
  },
  {
   "cell_type": "code",
   "execution_count": 9,
   "metadata": {},
   "outputs": [
    {
     "data": {
      "image/png": "[encoded data removed]",
      "text/plain": [
       "<Figure size 432x288 with 1 Axes>"
      ]
     },
     "metadata": {
      "needs_background": "light"
     },
     "output_type": "display_data"
    }
   ],
   "source": [
    "# Adds the linear fit to the scatter plot of the sunspot's x position versus time\n",
    "\n",
    "fig = plt.figure(3)\n",
    "ax = fig.add_subplot()\n",
    "ax.scatter(t[:half], shiftx[:half])\n",
    "\n",
    "# the first entry in fit1 is the slope, the second is the y intercept\n",
    "# thus: shiftxTheory1 = mt + c\n",
    "\n",
    "shiftxTheory1 = fit1[0]*t[:half] + fit1[1]\n",
    "\n",
    "ax.plot(t[:half], shiftxTheory1)\n",
    "\n",
    "plt.show()"
   ]
  },
  {
   "cell_type": "markdown",
   "metadata": {},
   "source": [
    "The linear fit doesn't look the best. It turns out a third order fit is best:"
   ]
  },
  {
   "cell_type": "code",
   "execution_count": 10,
   "metadata": {},
   "outputs": [
    {
     "name": "stdout",
     "output_type": "stream",
     "text": [
      "(array([-0.14393338,  0.67647232, -0.0721269 ,  0.00293003]), array([8.13926168e-05]), 4, array([1.88564038, 0.64135483, 0.1797991 , 0.02639395]), 1.9984014443252818e-15)\n",
      "Residual = 8.139261679526215e-05\n"
     ]
    },
    {
     "data": {
      "image/png": "[encoded data removed]",
      "text/plain": [
       "<Figure size 432x288 with 1 Axes>"
      ]
     },
     "execution_count": 10,
     "metadata": {},
     "output_type": "execute_result"
    }
   ],
   "source": [
    "# Creates a third order fit\n",
    "\n",
    "fit3 = np.polyfit(t[:half], shiftx[:half], 3, full=True)\n",
    "\n",
    "print(fit3)\n",
    "print('Residual = '+str(fit3[1][0]))\n",
    "\n",
    "# Using the standard form of a cubic:\n",
    "# y=ax^3 + bx^2 + cx + d, where a, b, c, and d are the coefficients obtained from the third order fit\n",
    "\n",
    "shiftxTheory3 = fit3[0][0]*t[:half]**3 + fit3[0][1]*t[:half]**2 + fit3[0][2]*t[:half] + fit3[0][3]\n",
    "\n",
    "ax.plot(t[:half], shiftxTheory3)\n",
    "fig"
   ]
  },
  {
   "cell_type": "markdown",
   "metadata": {},
   "source": [
    "A much better fit and smaller residual! In ```sunspotsAuto.ipynb``` a third degree polynomial fit is used to test whether to accept or reject a sunspot track.\n",
    "\n",
    "The sunspot's 's' curve is actually just part of a sine wave and the path of the sunspot as we see it on the surface looks like an object in simple harmonic motion. Viewed top-down, the sunspot is traveling in uniform circular motion. This leads us to the equation used in ```sunspots.ipynb``` to calculate the period of rotation:\n",
    "\n",
    "$$x = Asin\\left(\\frac{2\\pi}{T}t+\\phi\\right)$$\n",
    "\n",
    "where we tend to ignore $\\phi$ because the slope of a graph of $arcsin(x/A)$ vs $t$ yields $2\\pi/T$ which can be used to find the time period $T$:\n",
    "\n",
    "$$T = \\frac{2\\pi}{m}$$\n",
    "\n",
    "$\\phi$ would be the y-intercept."
   ]
  }
 ],
 "metadata": {
  "kernelspec": {
   "display_name": "Python 3 (ipykernel)",
   "language": "python",
   "name": "python3"
  },
  "language_info": {
   "codemirror_mode": {
    "name": "ipython",
    "version": 3
   },
   "file_extension": ".py",
   "mimetype": "text/x-python",
   "name": "python",
   "nbconvert_exporter": "python",
   "pygments_lexer": "ipython3",
   "version": "3.9.12"
  }
 },
 "nbformat": 4,
 "nbformat_minor": 4
}
